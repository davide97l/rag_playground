{
 "cells": [
  {
   "cell_type": "markdown",
   "id": "afd8919b-f2b1-4715-ba2b-89246b3bd348",
   "metadata": {},
   "source": [
    "## Example of RAG using Unstructured\n",
    "\n",
    "RAG with different documents using OpenAI model, OpenAI embedding, and ChromaDB"
   ]
  },
  {
   "cell_type": "code",
   "execution_count": 9,
   "id": "dcc9adac-9eb9-42e5-9019-909611952cbe",
   "metadata": {},
   "outputs": [
    {
     "data": {
      "text/plain": [
       "True"
      ]
     },
     "execution_count": 9,
     "metadata": {},
     "output_type": "execute_result"
    }
   ],
   "source": [
    "from IPython.display import JSON\n",
    "\n",
    "import json\n",
    "\n",
    "from unstructured_client import UnstructuredClient\n",
    "from unstructured_client.models import shared\n",
    "from unstructured_client.models.errors import SDKError\n",
    "from unstructured.partition.html import partition_html\n",
    "from unstructured.partition.pptx import partition_pptx\n",
    "from unstructured.staging.base import dict_to_elements, elements_to_json\n",
    "from unstructured.partition.auto import partition\n",
    "from unstructured.chunking.title import chunk_by_title\n",
    "from langchain_community.vectorstores import Chroma\n",
    "from langchain_core.documents import Document\n",
    "from langchain_openai import OpenAIEmbeddings\n",
    "from langchain.prompts.prompt import PromptTemplate\n",
    "from langchain_openai import OpenAI\n",
    "from langchain.chains import ConversationalRetrievalChain, LLMChain\n",
    "from langchain.chains.qa_with_sources import load_qa_with_sources_chain\n",
    "import os\n",
    "from dotenv import load_dotenv\n",
    "load_dotenv()"
   ]
  },
  {
   "cell_type": "code",
   "execution_count": 4,
   "id": "38b98d46-d1b4-43a3-bf75-011bd7397a0b",
   "metadata": {},
   "outputs": [
    {
     "name": "stderr",
     "output_type": "stream",
     "text": [
      "This function will be deprecated in a future release and `unstructured` will simply use the DEFAULT_MODEL from `unstructured_inference.model.base` to set default model name\n",
      "Some weights of the model checkpoint at microsoft/table-transformer-structure-recognition were not used when initializing TableTransformerForObjectDetection: ['model.backbone.conv_encoder.model.layer2.0.downsample.1.num_batches_tracked', 'model.backbone.conv_encoder.model.layer3.0.downsample.1.num_batches_tracked', 'model.backbone.conv_encoder.model.layer4.0.downsample.1.num_batches_tracked']\n",
      "- This IS expected if you are initializing TableTransformerForObjectDetection from the checkpoint of a model trained on another task or with another architecture (e.g. initializing a BertForSequenceClassification model from a BertForPreTraining model).\n",
      "- This IS NOT expected if you are initializing TableTransformerForObjectDetection from the checkpoint of a model that you expect to be exactly identical (initializing a BertForSequenceClassification model from a BertForSequenceClassification model).\n"
     ]
    }
   ],
   "source": [
    "filename = \"documents/medium_blog.html\"\n",
    "elements_html = partition_html(filename=filename)\n",
    "filename = \"documents/msft_openai.pptx\"\n",
    "elements_ppt = partition_pptx(filename=filename)\n",
    "filename = \"documents/CoT.pdf\"\n",
    "elements_pdf = partition(filename)"
   ]
  },
  {
   "cell_type": "code",
   "execution_count": 5,
   "id": "9bbe365f-4064-4895-88df-95d5e12e95a6",
   "metadata": {},
   "outputs": [],
   "source": [
    "elements = chunk_by_title(elements_html + elements_ppt + elements_pdf)"
   ]
  },
  {
   "cell_type": "code",
   "execution_count": 68,
   "id": "de2bd4e1-b093-49e3-ad62-549d98170180",
   "metadata": {},
   "outputs": [],
   "source": [
    "documents = []\n",
    "for element in elements[:]:\n",
    "    metadata = element.metadata.to_dict()\n",
    "    metadata['source'] = metadata[\"filename\"]\n",
    "    documents.append(Document(page_content=element.text, metadata=metadata))"
   ]
  },
  {
   "cell_type": "code",
   "execution_count": 80,
   "id": "ffae33e5-fe79-4dc6-a639-d725996318e7",
   "metadata": {},
   "outputs": [],
   "source": [
    "from langchain.vectorstores import utils\n",
    "\n",
    "documents = utils.filter_complex_metadata(documents)\n",
    "\n",
    "embeddings = OpenAIEmbeddings()\n",
    "vectorstore = Chroma.from_documents(documents, embeddings)\n",
    "retriever = vectorstore.as_retriever(\n",
    "    search_type=\"similarity\",\n",
    "    search_kwargs={\"k\": 3}\n",
    ")"
   ]
  },
  {
   "cell_type": "code",
   "execution_count": 76,
   "id": "96240e8f-b5ef-4847-a6c4-91b9b1ffc70f",
   "metadata": {},
   "outputs": [
    {
     "data": {
      "text/plain": [
       "Document(page_content='Why Use Unstructured API?\\n\\nUse cases for the Unstructured open-source library and API are vast; the possibilities are endless, from analyzing customer feedback in real time to extracting insights from large document repositories. While the Unstructured open-source library offers robust functionality, using the Unstructured API brings several compelling advantages:\\n\\nEase of Use: Managing dependencies is unnecessary with the API. All you need is an API key, and you’re ready to go.', metadata={'file_directory': 'documents', 'filename': 'medium_blog.html', 'filetype': 'text/html', 'last_modified': '2024-04-13T20:07:55', 'orig_elements': 'eJzNlE1v2zAMhv8K4XM+bMdO6uww9LBDgX0dWvSwFYYs0bZQWTL0kS0t+t9HOQ0QpAW2Ajv0aJEvSb166B+PCSocUPtaimQLScPTLCtXLYq1qLBiqwyL8oI1ZVW0bYlVMoNkQM8E84zyHxPOPHbG7muBo+/pKKWMViqshbTIPYViXWF4iG1c8hzWbMAYGFDIMNSNMt2i94M6xv1+nOIef/vlMaCY7gLr0FHkR4K6S+6mU+frwQjZSpwukad5MU+Leba6ztNtutmWZVSPpKx1GBq0lJU9zQ7Vo+K238ONQ7jRztvAfbAo4PL71ceoO45yLb3ChGTnpvF83a43TZmSLWyTsXS9Ehc5T6uiWa85y1+Y9j79UVLf17HeQW5G1HNnguUISjaW0aSUdW7RoUWUBqsOyt770W2Xy076PjQLboblqWp+9W0ZTr5j1TdK5myUU+OzN51O7BtwPoUgAsCZQwetseD7Mxxe8QOYnjwA6gk7svnDJBuNc7KRSnpJxWIMtVDo3AxaawZSMbV/kLoDHpw3A1poEUXD+D1IDRaZAi8HBG+AZrOM+5gstZNd792hiGK2QzhyQyLqKgknarmA254Q+bcrmLZF68CahmaBNmhqZmhA6fczCC42flEnXrmxFHLgcIeW5qUXG1GpmM7EjmkfMdyers9XZi3zcofX0e9X1qgpN1Uhcl40m3VRVWVWYJ6nWBQXxSblmfj7vye+Pw5jz5x8QDGxXHOj/bRYkcxP9Lx047jrEz7nyTT1IZEua57X530u6/8E/8SVLXwhOrv4jGQqYYuaR4ilg6A1coI4QvOL1nTCgkhYwKVSsDcBNEEcM5meCLlHIihuCMV+hjzNKtoEglvsI9idWZzS8Vk6f+VxSJ7u/gCU2S5n', 'page_number': 1, 'source': 'medium_blog.html'})"
      ]
     },
     "execution_count": 76,
     "metadata": {},
     "output_type": "execute_result"
    }
   ],
   "source": [
    "docs = vectorstore.similarity_search(\"What is the Unstructured API about?\")\n",
    "docs[0]"
   ]
  },
  {
   "cell_type": "code",
   "execution_count": 62,
   "id": "a07d2650-2e37-4ba7-b20f-7b90758962f5",
   "metadata": {},
   "outputs": [],
   "source": [
    "template = \"\"\"You are an AI assistant for answering questions.\n",
    "You are given the following extracted parts of a document and a question. Provide a conversational answer.\n",
    "If you don't know the answer, just say \"I don't know.\" Don't try to make up an answer.\n",
    "Question: {question}\n",
    "=========\n",
    "{context}\n",
    "=========\n",
    "Answer in Markdown:\"\"\"\n",
    "prompt = PromptTemplate(template=template, input_variables=[\"question\", \"context\"])"
   ]
  },
  {
   "cell_type": "code",
   "execution_count": 82,
   "id": "facf6516-7006-4b28-886b-207346d67483",
   "metadata": {},
   "outputs": [],
   "source": [
    "llm = OpenAI(temperature=0)\n",
    "\n",
    "doc_chain = load_qa_with_sources_chain(llm, chain_type=\"map_reduce\")\n",
    "question_generator_chain = LLMChain(llm=llm, prompt=prompt)\n",
    "qa_chain = ConversationalRetrievalChain(\n",
    "    retriever=retriever,\n",
    "    question_generator=question_generator_chain,\n",
    "    combine_docs_chain=doc_chain,\n",
    ")"
   ]
  },
  {
   "cell_type": "code",
   "execution_count": 83,
   "id": "647677cb-6b75-4092-be2e-ea099346da54",
   "metadata": {},
   "outputs": [
    {
     "data": {
      "text/plain": [
       "' The Unstructured API allows for real-time analysis of customer feedback and extraction of insights from large document repositories.\\nSOURCES: medium_blog.html'"
      ]
     },
     "execution_count": 83,
     "metadata": {},
     "output_type": "execute_result"
    }
   ],
   "source": [
    "qa_chain.invoke({\n",
    "    \"question\": \"What is the Unstructured API about?\",\n",
    "    \"chat_history\": []\n",
    "})[\"answer\"]"
   ]
  }
 ],
 "metadata": {
  "kernelspec": {
   "display_name": "llm_testing",
   "language": "python",
   "name": "llm_testing"
  },
  "language_info": {
   "codemirror_mode": {
    "name": "ipython",
    "version": 3
   },
   "file_extension": ".py",
   "mimetype": "text/x-python",
   "name": "python",
   "nbconvert_exporter": "python",
   "pygments_lexer": "ipython3",
   "version": "3.10.14"
  }
 },
 "nbformat": 4,
 "nbformat_minor": 5
}

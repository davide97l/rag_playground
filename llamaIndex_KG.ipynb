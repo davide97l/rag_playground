{
 "cells": [
  {
   "cell_type": "code",
   "execution_count": 16,
   "id": "d6f0b6d8-3423-4ca6-b48c-7c7bea4a87cc",
   "metadata": {},
   "outputs": [
    {
     "data": {
      "text/plain": [
       "True"
      ]
     },
     "execution_count": 16,
     "metadata": {},
     "output_type": "execute_result"
    }
   ],
   "source": [
    "from llama_index.core import (SimpleDirectoryReader,\n",
    "                         ServiceContext,\n",
    "                         KnowledgeGraphIndex)\n",
    "#\n",
    "from llama_index.core.graph_stores import SimpleGraphStore\n",
    "from llama_index.core.storage.storage_context import StorageContext\n",
    "from pyvis.network import Network\n",
    "from llama_index.llms.openai import OpenAI\n",
    "from llama_index.core import Settings\n",
    "from dotenv import load_dotenv\n",
    "load_dotenv()"
   ]
  },
  {
   "cell_type": "code",
   "execution_count": 13,
   "id": "6c0f73d9-26d4-4abb-8603-86ff39eb800f",
   "metadata": {},
   "outputs": [
    {
     "name": "stdout",
     "output_type": "stream",
     "text": [
      "1\n"
     ]
    }
   ],
   "source": [
    "documents = SimpleDirectoryReader(\"data/paul_graham/source_files\").load_data()\n",
    "print(len(documents))"
   ]
  },
  {
   "cell_type": "code",
   "execution_count": 22,
   "id": "14e8c797-972c-460f-9a51-a898963ac2b8",
   "metadata": {},
   "outputs": [],
   "source": [
    "llm = OpenAI(temperature=0, model=\"gpt-4\")\n",
    "Settings.llm = llm\n",
    "Settings.chunk_size = 512"
   ]
  },
  {
   "cell_type": "code",
   "execution_count": 23,
   "id": "9a1fa674-1419-4e6d-8631-bb632d27627e",
   "metadata": {},
   "outputs": [],
   "source": [
    "from llama_index.core import StorageContext\n",
    "\n",
    "graph_store = SimpleGraphStore()\n",
    "storage_context = StorageContext.from_defaults(graph_store=graph_store)\n",
    "\n",
    "# https://docs.llamaindex.ai/en/stable/examples/index_structs/knowledge_graph/KnowledgeGraphDemo/\n",
    "# default use LLM to generate graph triplets (https://github.com/run-llama/llama_index/blob/main/llama-index-core/llama_index/core/indices/knowledge_graph/base.py)\n",
    "index = KnowledgeGraphIndex.from_documents(\n",
    "    documents,\n",
    "    max_triplets_per_chunk=2,\n",
    "    storage_context=storage_context,\n",
    ")"
   ]
  },
  {
   "cell_type": "code",
   "execution_count": 30,
   "id": "6939f48a-f08a-4188-b888-a5a2d3402576",
   "metadata": {},
   "outputs": [],
   "source": [
    "index.storage_context.persist(persist_dir='./data/paul_graham_KG')"
   ]
  },
  {
   "cell_type": "code",
   "execution_count": 24,
   "id": "ea82e65f-51a3-473c-90e2-ec7518e11274",
   "metadata": {},
   "outputs": [],
   "source": [
    "query_engine = index.as_query_engine(\n",
    "    include_text=False, response_mode=\"tree_summarize\"\n",
    ")\n",
    "response = query_engine.query(\n",
    "    \"Tell me more about Interleaf\",\n",
    ")"
   ]
  },
  {
   "cell_type": "code",
   "execution_count": 27,
   "id": "3d3e1165-d03c-4cfb-b539-b61adaf6640f",
   "metadata": {},
   "outputs": [
    {
     "data": {
      "text/plain": [
       "\"Interleaf is a company known for creating software for document creation. They also added a scripting language to their offerings. However, they faced significant challenges due to Moore's law.\""
      ]
     },
     "execution_count": 27,
     "metadata": {},
     "output_type": "execute_result"
    }
   ],
   "source": [
    "response.response"
   ]
  },
  {
   "cell_type": "code",
   "execution_count": 28,
   "id": "44103e92-9ea7-475f-9af9-c4aa23cd4388",
   "metadata": {},
   "outputs": [
    {
     "data": {
      "text/plain": [
       "Response(response=\"Interleaf is a company known for creating software for document creation. They also added a scripting language to their offerings. However, they faced significant challenges due to Moore's law.\", source_nodes=[NodeWithScore(node=TextNode(id_='6b7227ce-51b4-4d1d-83fb-8eea0e91803a', embedding=None, metadata={'kg_rel_texts': [\"['Interleaf', 'Made', 'Software for creating documents']\", \"['Interleaf', 'Added', 'Scripting language']\", '[\\'Interleaf\\', \\'Got crushed by\\', \"Moore\\'s law\"]'], 'kg_rel_map': {'more': [], 'Interleaf': [['Interleaf', 'Made', 'Software for creating documents'], ['Interleaf', 'Added', 'Scripting language'], ['Interleaf', 'Got crushed by', \"Moore's law\"]]}}, excluded_embed_metadata_keys=['kg_rel_map', 'kg_rel_texts'], excluded_llm_metadata_keys=['kg_rel_map', 'kg_rel_texts'], relationships={}, text='The following are knowledge sequence in max depth 2 in the form of directed graph like:\\n`subject -[predicate]->, object, <-[predicate_next_hop]-, object_next_hop ...`\\n[\\'Interleaf\\', \\'Made\\', \\'Software for creating documents\\']\\n[\\'Interleaf\\', \\'Added\\', \\'Scripting language\\']\\n[\\'Interleaf\\', \\'Got crushed by\\', \"Moore\\'s law\"]', start_char_idx=None, end_char_idx=None, text_template='{metadata_str}\\n\\n{content}', metadata_template='{key}: {value}', metadata_seperator='\\n'), score=1000.0)], metadata={'6b7227ce-51b4-4d1d-83fb-8eea0e91803a': {'kg_rel_texts': [\"['Interleaf', 'Made', 'Software for creating documents']\", \"['Interleaf', 'Added', 'Scripting language']\", '[\\'Interleaf\\', \\'Got crushed by\\', \"Moore\\'s law\"]'], 'kg_rel_map': {'more': [], 'Interleaf': [['Interleaf', 'Made', 'Software for creating documents'], ['Interleaf', 'Added', 'Scripting language'], ['Interleaf', 'Got crushed by', \"Moore's law\"]]}}})"
      ]
     },
     "execution_count": 28,
     "metadata": {},
     "output_type": "execute_result"
    }
   ],
   "source": [
    "response"
   ]
  },
  {
   "cell_type": "code",
   "execution_count": 29,
   "id": "4a782831-9df2-465f-858c-688fd208478c",
   "metadata": {},
   "outputs": [
    {
     "name": "stdout",
     "output_type": "stream",
     "text": [
      "example.html\n"
     ]
    },
    {
     "data": {
      "text/html": [
       "\n",
       "        <iframe\n",
       "            width=\"100%\"\n",
       "            height=\"600px\"\n",
       "            src=\"example.html\"\n",
       "            frameborder=\"0\"\n",
       "            allowfullscreen\n",
       "            \n",
       "        ></iframe>\n",
       "        "
      ],
      "text/plain": [
       "<IPython.lib.display.IFrame at 0x2b1d83640>"
      ]
     },
     "execution_count": 29,
     "metadata": {},
     "output_type": "execute_result"
    }
   ],
   "source": [
    "from pyvis.network import Network\n",
    "\n",
    "g = index.get_networkx_graph()\n",
    "net = Network(notebook=True, cdn_resources=\"in_line\", directed=True)\n",
    "net.from_nx(g)\n",
    "net.show(\"kg/example.html\")"
   ]
  },
  {
   "cell_type": "code",
   "execution_count": 31,
   "id": "72d743d0-c3f4-4cd7-bbba-b8e335afe1c7",
   "metadata": {},
   "outputs": [
    {
     "name": "stderr",
     "output_type": "stream",
     "text": [
      "/Users/davideliu/miniconda3/envs/llm_testing/lib/python3.10/site-packages/transformers/models/vit/feature_extraction_vit.py:28: FutureWarning: The class ViTFeatureExtractor is deprecated and will be removed in version 5 of Transformers. Please use ViTImageProcessor instead.\n",
      "  warnings.warn(\n"
     ]
    }
   ],
   "source": [
    "documents = SimpleDirectoryReader(\"./documents\").load_data()\n",
    "graph_store = SimpleGraphStore()\n",
    "storage_context = StorageContext.from_defaults(graph_store=graph_store)\n",
    "\n",
    "# NOTE: can take a while!\n",
    "index2 = KnowledgeGraphIndex.from_documents(\n",
    "    documents,\n",
    "    max_triplets_per_chunk=2,\n",
    "    storage_context=storage_context,\n",
    ")"
   ]
  },
  {
   "cell_type": "code",
   "execution_count": 32,
   "id": "3c64def2-efe3-410b-b435-da648fa2a109",
   "metadata": {},
   "outputs": [
    {
     "name": "stdout",
     "output_type": "stream",
     "text": [
      "example2.html\n"
     ]
    },
    {
     "data": {
      "text/html": [
       "\n",
       "        <iframe\n",
       "            width=\"100%\"\n",
       "            height=\"600px\"\n",
       "            src=\"example2.html\"\n",
       "            frameborder=\"0\"\n",
       "            allowfullscreen\n",
       "            \n",
       "        ></iframe>\n",
       "        "
      ],
      "text/plain": [
       "<IPython.lib.display.IFrame at 0x2b275e800>"
      ]
     },
     "execution_count": 32,
     "metadata": {},
     "output_type": "execute_result"
    }
   ],
   "source": [
    "g = index2.get_networkx_graph()\n",
    "net = Network(notebook=True, cdn_resources=\"in_line\", directed=True)\n",
    "net.from_nx(g)\n",
    "net.show(\"kg/example2.html\")"
   ]
  },
  {
   "cell_type": "code",
   "execution_count": null,
   "id": "61e0f873-77c3-40ed-af82-dd4210c92457",
   "metadata": {},
   "outputs": [],
   "source": []
  }
 ],
 "metadata": {
  "kernelspec": {
   "display_name": "llm_testing",
   "language": "python",
   "name": "llm_testing"
  },
  "language_info": {
   "codemirror_mode": {
    "name": "ipython",
    "version": 3
   },
   "file_extension": ".py",
   "mimetype": "text/x-python",
   "name": "python",
   "nbconvert_exporter": "python",
   "pygments_lexer": "ipython3",
   "version": "3.10.14"
  }
 },
 "nbformat": 4,
 "nbformat_minor": 5
}

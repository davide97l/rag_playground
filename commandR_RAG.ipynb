{
 "cells": [
  {
   "cell_type": "markdown",
   "id": "d14d5f80-ad0f-4591-a24c-4f1bdab27c63",
   "metadata": {},
   "source": [
    "# RAG with Cohere CommandR model + citations"
   ]
  },
  {
   "cell_type": "code",
   "execution_count": 4,
   "id": "aaffcb6c-57be-449e-a299-4e2c8c683df3",
   "metadata": {},
   "outputs": [],
   "source": [
    "import os\n",
    "import cohere\n",
    "from dotenv import load_dotenv\n",
    "load_dotenv()\n",
    "\n",
    "co = cohere.Client(os.getenv('COHERE_API_KEY'))"
   ]
  },
  {
   "cell_type": "code",
   "execution_count": 5,
   "id": "4e5da021-8159-4879-bc3a-a966555b27fb",
   "metadata": {},
   "outputs": [
    {
     "name": "stdout",
     "output_type": "stream",
     "text": [
      "The text has roughly 5797 words.\n"
     ]
    }
   ],
   "source": [
    "import wikipedia\n",
    "\n",
    "article = wikipedia.page('Dune Part Two')\n",
    "text = article.content\n",
    "print(f\"The text has roughly {len(text.split())} words.\")"
   ]
  },
  {
   "cell_type": "code",
   "execution_count": 6,
   "id": "f1e8ee24-1859-4206-b5d4-aa598a581ed4",
   "metadata": {},
   "outputs": [
    {
     "name": "stdout",
     "output_type": "stream",
     "text": [
      "The text has been broken down in 101 chunks.\n"
     ]
    }
   ],
   "source": [
    "from langchain_text_splitters import RecursiveCharacterTextSplitter\n",
    "\n",
    "# Create basic configurations to chunk the text\n",
    "text_splitter = RecursiveCharacterTextSplitter(\n",
    "    chunk_size=512,\n",
    "    chunk_overlap=50,\n",
    "    length_function=len,\n",
    "    is_separator_regex=False,\n",
    ")\n",
    "\n",
    "# Split the text into chunks with some overlap\n",
    "chunks_ = text_splitter.create_documents([text])\n",
    "chunks = [c.page_content for c in chunks_]\n",
    "print(f\"The text has been broken down in {len(chunks)} chunks.\")"
   ]
  },
  {
   "cell_type": "code",
   "execution_count": 7,
   "id": "a26a3ffc-ab5b-4039-a72e-863c563635a8",
   "metadata": {},
   "outputs": [
    {
     "name": "stdout",
     "output_type": "stream",
     "text": [
      "We just computed 101 embeddings.\n"
     ]
    }
   ],
   "source": [
    "# Because the texts being embedded are the chunks we are searching over, we set the input type as search_doc\n",
    "model=\"embed-english-v3.0\"\n",
    "response = co.embed(\n",
    "    texts= chunks,\n",
    "    model=model,\n",
    "    input_type=\"search_document\",\n",
    "    embedding_types=['float']\n",
    ")\n",
    "embeddings = response.embeddings.float\n",
    "print(f\"We just computed {len(embeddings)} embeddings.\")"
   ]
  },
  {
   "cell_type": "code",
   "execution_count": 8,
   "id": "0ac999c4-931f-4beb-a596-6ef387324ad6",
   "metadata": {},
   "outputs": [],
   "source": [
    "import numpy as np\n",
    "\n",
    "vector_database = {i: np.array(embedding) for i, embedding in enumerate(embeddings)}\n",
    "# { 0: array([...]), 1: array([...]), 2: array([...]), ..., 10: array([...]) }"
   ]
  },
  {
   "cell_type": "code",
   "execution_count": 9,
   "id": "1cfbf637-df85-413f-bad3-b4de5eb966ec",
   "metadata": {},
   "outputs": [],
   "source": [
    "query = \"Name everyone involved in writing the script, directing, and producing 'Dune: Part Two'?\""
   ]
  },
  {
   "cell_type": "code",
   "execution_count": 13,
   "id": "8da84863-5f9c-4412-ab1d-54e30dd67f69",
   "metadata": {},
   "outputs": [
    {
     "name": "stdout",
     "output_type": "stream",
     "text": [
      "query_embedding:  1024\n"
     ]
    }
   ],
   "source": [
    "# Because the text being embedded is the search query, we set the input type as search_query\n",
    "response = co.embed(\n",
    "    texts=[query],\n",
    "    model=model,\n",
    "    input_type=\"search_query\",\n",
    "    embedding_types=['float']\n",
    ")\n",
    "query_embedding = response.embeddings.float[0]\n",
    "print(\"query_embedding: \", len(query_embedding))"
   ]
  },
  {
   "cell_type": "code",
   "execution_count": 17,
   "id": "9a60ef8d-1276-4540-80d2-e1f4ea3dbea4",
   "metadata": {},
   "outputs": [
    {
     "name": "stdout",
     "output_type": "stream",
     "text": [
      "similarity scores:  [0.6888614728034463, 0.38807630598882875, 0.591677130062394, 0.6249606075622278, 0.3857665530943082, 0.24433414846393073, 0.38992649061156226, 0.32510833331345956, 0.30015660628306146, 0.42986330875799494]\n",
      "Here are the indices of the top 10 chunks after retrieval:  [24 27 23  0 31  3 33 32 89  2]\n",
      "Here are the top 10 chunks after retrieval: \n",
      "\n",
      "Index: 24) Text: stunt coordinator. Dune: Part Two was produced by Villeneuve, Mary Parent, and Cale Boyter, with Tan\n",
      "\n",
      "Index: 27) Text: that.\"On October 26, 2021, Legendary officially greenlit Dune: Part Two, with a spokesperson for the\n",
      "\n",
      "Index: 23) Text: series. Villeneuve ultimately secured a two-film deal with Warner Bros. Pictures, in the same style \n",
      "\n",
      "Index: 0) Text: Dune: Part Two is a 2024 American epic science fiction film directed and produced by Denis Villeneuv\n",
      "\n",
      "Index: 31) Text: Eric Roth was hired to co-write the screenplay in April 2017 for the Dune films, and Jon Spaihts was\n",
      "\n",
      "Index: 3) Text: theatrical and HBO Max release but Warner Bros. Pictures assured him the sequel would happen if it p\n",
      "\n",
      "Index: 33) Text: writing beginning that August. He confirmed that Feyd-Rautha would appear in the film, and stated he\n",
      "\n",
      "Index: 32) Text: to focus on Dune: Part Two. In June 2020, Greig Fraser said, \"It's a fully formed story in itself wi\n",
      "\n",
      "Index: 89) Text: gave the film three stars out of four, praising the technical and narrative aspects, saying, \"Even a\n",
      "\n",
      "Index: 2) Text: Development began after Legendary Entertainment acquired film and television rights for the Dune fra\n"
     ]
    }
   ],
   "source": [
    "def cosine_similarity(a, b):\n",
    "    return np.dot(a, b) / (np.linalg.norm(a) * np.linalg.norm(b))\n",
    "\n",
    "# Calculate similarity between the user question & each chunk\n",
    "similarities = [cosine_similarity(query_embedding, chunk) for chunk in embeddings]\n",
    "print(\"similarity scores: \", similarities[:10])\n",
    "\n",
    "# Get indices of the top 10 most similar chunks\n",
    "sorted_indices = np.argsort(similarities)[::-1]\n",
    "\n",
    "# Keep only the top 10 indices\n",
    "top_indices = sorted_indices[:10]\n",
    "print(\"Here are the indices of the top 10 chunks after retrieval: \", top_indices)\n",
    "\n",
    "# Retrieve the top 10 most similar chunks\n",
    "top_chunks_after_retrieval = [chunks[i] for i in top_indices]\n",
    "print(\"Here are the top 10 chunks after retrieval: \")\n",
    "for i, t in zip(top_indices, top_chunks_after_retrieval):\n",
    "    print(f\"\\nIndex: {i}) Text: \" + t[:100])"
   ]
  },
  {
   "cell_type": "code",
   "execution_count": 41,
   "id": "770e5b13-f041-4325-8781-a5156407ddeb",
   "metadata": {},
   "outputs": [
    {
     "name": "stdout",
     "output_type": "stream",
     "text": [
      "Here are the top 3 chunks after rerank: \n",
      "\n",
      "Dune: Part Two is a 2024 American epic science fiction film directed and produced by Denis Villeneuve, who co-wrote the screenplay with Jon Spaihts. The sequel to Dune (2021), it is the second of a two-part adaptation of the 1965 novel Dune by Frank Herbert. It follows Paul Atreides as he unites with the Fremen people of the desert planet Arrakis to wage war against House Harkonnen. Timothée Chalamet, Zendaya, Rebecca Ferguson, Josh Brolin, Dave Bautista, Stellan Skarsgård, Charlotte Rampling, and Javier\n",
      "\n",
      "stunt coordinator. Dune: Part Two was produced by Villeneuve, Mary Parent, and Cale Boyter, with Tanya Lapointe, Brian Herbert, Byron Merritt, Kim Herbert, Thomas Tull, Jon Spaihts, Richard P. Rubinstein, John Harrison, and Herbert W. Gain serving as executive producers and Kevin J. Anderson as creative consultant. Legendary CEO Joshua Grode confirmed in April 2019 that they plan to make a sequel, adding that \"there's a logical place to stop the [first] movie before the book is over\".In December 2020,\n",
      "\n",
      "series. Villeneuve ultimately secured a two-film deal with Warner Bros. Pictures, in the same style as the two-part adaption of Stephen King's It in 2017 and 2019. In January 2019, Joe Walker was confirmed to be serving as the film's editor. Other crew included Brad Riker as supervising art director, Patrice Vermette as production designer, Paul Lambert as visual effects supervisor, Gerd Nefzer as special effects supervisor, and Thomas Struthers as stunt coordinator. Dune: Part Two was produced by\n"
     ]
    }
   ],
   "source": [
    "response = co.rerank(\n",
    "    query=query,\n",
    "    documents=top_chunks_after_retrieval,\n",
    "    top_n=3,\n",
    "    model=\"rerank-english-v2.0\",\n",
    ")\n",
    "\n",
    "top_chunks_index_after_rerank = [result.index for result in response.results]\n",
    "top_chunks_after_rerank = [top_chunks_after_retrieval[i] for i in top_chunks_index_after_rerank]\n",
    "print(\"Here are the top 3 chunks after rerank: \")\n",
    "for t in top_chunks_after_rerank:\n",
    "    print(\"\\n\" + t)"
   ]
  },
  {
   "cell_type": "code",
   "execution_count": 42,
   "id": "a8807f19-1268-47c6-aed5-8429a6f2c88d",
   "metadata": {},
   "outputs": [],
   "source": [
    "# preamble containing instructions about the task and the desired style for the output.\n",
    "preamble = \"\"\"\n",
    "## Task & Context\n",
    "You help people answer their questions and other requests interactively. You will be asked a very wide array of requests on all kinds of topics. You will be equipped with a wide range of search engines or similar tools to help you, which you use to research your answer. You should focus on serving the user's needs as best you can, which will be wide-ranging.\n",
    "\n",
    "## Style Guide\n",
    "Unless the user asks for a different style of answer, you should answer in full sentences, using proper grammar and spelling.\n",
    "\"\"\""
   ]
  },
  {
   "cell_type": "code",
   "execution_count": 46,
   "id": "5c982e71-7006-4ee5-991e-31462e996276",
   "metadata": {},
   "outputs": [
    {
     "name": "stdout",
     "output_type": "stream",
     "text": [
      "Final answer:\n",
      "Here's a list of everyone involved in writing the script, directing, and producing 'Dune: Part Two':\n",
      "- Denis Villeneuve (director and producer)\n",
      "- Jon Spaihts (screenwriter and producer)\n",
      "- Mary Parent (producer)\n",
      "- Cale Boyter (producer)\n",
      "\n",
      "The film also had a large crew including:\n",
      "- Joe Walker (editor)\n",
      "- Brad Riker (supervising art director)\n",
      "- Patrice Vermette (production designer)\n",
      "- Paul Lambert (visual effects supervisor)\n",
      "- Gerd Nefzer (special effects supervisor)\n",
      "- Thomas Struthers (stunt coordinator)\n",
      "- Tanya Lapointe (executive producer)\n",
      "- Brian Herbert (executive producer)\n",
      "- Byron Merritt (executive producer)\n",
      "- Kim Herbert (executive producer)\n",
      "- Thomas Tull (executive producer)\n",
      "- John Harrison (executive producer)\n",
      "- Herbert W. Gain (executive producer)\n",
      "- Richard P. Rubinstein (executive producer)\n",
      "- Kevin J. Anderson (creative consultant)\n"
     ]
    }
   ],
   "source": [
    "# retrieved documents\n",
    "documents = [\n",
    "    {\"title\": \"chunk 0\", \"snippet\": top_chunks_after_rerank[0]},\n",
    "    {\"title\": \"chunk 1\", \"snippet\": top_chunks_after_rerank[1]},\n",
    "    {\"title\": \"chunk 2\", \"snippet\": top_chunks_after_rerank[2]},\n",
    "  ]\n",
    "\n",
    "# get model response\n",
    "response = co.chat(\n",
    "  message=query,\n",
    "  documents=documents,\n",
    "  preamble=preamble,\n",
    "  model=\"command-r\",\n",
    "  temperature=0.3\n",
    ")\n",
    "\n",
    "print(\"Final answer:\")\n",
    "print(response.text)"
   ]
  },
  {
   "cell_type": "code",
   "execution_count": 47,
   "id": "85ea74d1-dd02-4401-8bb8-ca2568509e87",
   "metadata": {},
   "outputs": [
    {
     "name": "stdout",
     "output_type": "stream",
     "text": [
      "Citations that support the final answer:\n",
      "start=103 end=108 text='Denis' document_ids=['doc_0']\n",
      "start=109 end=119 text='Villeneuve' document_ids=['doc_0', 'doc_1']\n",
      "start=120 end=129 text='(director' document_ids=['doc_0']\n",
      "start=134 end=142 text='producer' document_ids=['doc_0', 'doc_1']\n",
      "start=146 end=157 text='Jon Spaihts' document_ids=['doc_0']\n",
      "start=158 end=171 text='(screenwriter' document_ids=['doc_0']\n",
      "start=176 end=184 text='producer' document_ids=['doc_1']\n",
      "start=188 end=199 text='Mary Parent' document_ids=['doc_1']\n",
      "start=200 end=210 text='(producer)' document_ids=['doc_1']\n",
      "start=213 end=224 text='Cale Boyter' document_ids=['doc_1']\n",
      "start=225 end=235 text='(producer)' document_ids=['doc_1']\n",
      "start=281 end=291 text='Joe Walker' document_ids=['doc_2']\n",
      "start=292 end=300 text='(editor)' document_ids=['doc_2']\n",
      "start=303 end=313 text='Brad Riker' document_ids=['doc_2']\n",
      "start=314 end=340 text='(supervising art director)' document_ids=['doc_2']\n",
      "start=343 end=359 text='Patrice Vermette' document_ids=['doc_2']\n",
      "start=360 end=381 text='(production designer)' document_ids=['doc_2']\n",
      "start=384 end=396 text='Paul Lambert' document_ids=['doc_2']\n",
      "start=397 end=424 text='(visual effects supervisor)' document_ids=['doc_2']\n",
      "start=427 end=438 text='Gerd Nefzer' document_ids=['doc_2']\n",
      "start=439 end=467 text='(special effects supervisor)' document_ids=['doc_2']\n",
      "start=470 end=486 text='Thomas Struthers' document_ids=['doc_2']\n",
      "start=487 end=506 text='(stunt coordinator)' document_ids=['doc_2']\n",
      "start=509 end=523 text='Tanya Lapointe' document_ids=['doc_1']\n",
      "start=524 end=544 text='(executive producer)' document_ids=['doc_1']\n",
      "start=547 end=560 text='Brian Herbert' document_ids=['doc_1']\n",
      "start=561 end=581 text='(executive producer)' document_ids=['doc_1']\n",
      "start=584 end=597 text='Byron Merritt' document_ids=['doc_1']\n",
      "start=598 end=618 text='(executive producer)' document_ids=['doc_1']\n",
      "start=621 end=632 text='Kim Herbert' document_ids=['doc_1']\n",
      "start=633 end=653 text='(executive producer)' document_ids=['doc_1']\n",
      "start=656 end=667 text='Thomas Tull' document_ids=['doc_1']\n",
      "start=668 end=688 text='(executive producer)' document_ids=['doc_1']\n",
      "start=691 end=704 text='John Harrison' document_ids=['doc_1']\n",
      "start=705 end=725 text='(executive producer)' document_ids=['doc_1']\n",
      "start=728 end=743 text='Herbert W. Gain' document_ids=['doc_1']\n",
      "start=744 end=764 text='(executive producer)' document_ids=['doc_1']\n",
      "start=767 end=788 text='Richard P. Rubinstein' document_ids=['doc_1']\n",
      "start=789 end=809 text='(executive producer)' document_ids=['doc_1']\n",
      "start=812 end=829 text='Kevin J. Anderson' document_ids=['doc_1']\n",
      "start=830 end=851 text='(creative consultant)' document_ids=['doc_1']\n"
     ]
    }
   ],
   "source": [
    "print(\"Citations that support the final answer:\")\n",
    "for cite in response.citations:\n",
    "  print(cite)"
   ]
  },
  {
   "cell_type": "code",
   "execution_count": 50,
   "id": "fdda04bb-24f4-410d-acae-b6225c05f853",
   "metadata": {},
   "outputs": [
    {
     "name": "stdout",
     "output_type": "stream",
     "text": [
      "Here's a list of everyone involved in writing the script, directing, and producing 'Dune: Part Two':\n",
      "- **Denis**[1] **Villeneuve**[1][2] **(director**[1] and **producer**[1][2])\n",
      "- **Jon Spaihts**[1] **(screenwriter**[1] and **producer**[2])\n",
      "- **Mary Parent**[2] **(producer)**[2]\n",
      "- **Cale Boyter**[2] **(producer)**[2]\n",
      "\n",
      "The film also had a large crew including:\n",
      "- **Joe Walker**[3] **(editor)**[3]\n",
      "- **Brad Riker**[3] **(supervising art director)**[3]\n",
      "- **Patrice Vermette**[3] **(production designer)**[3]\n",
      "- **Paul Lambert**[3] **(visual effects supervisor)**[3]\n",
      "- **Gerd Nefzer**[3] **(special effects supervisor)**[3]\n",
      "- **Thomas Struthers**[3] **(stunt coordinator)**[3]\n",
      "- **Tanya Lapointe**[2] **(executive producer)**[2]\n",
      "- **Brian Herbert**[2] **(executive producer)**[2]\n",
      "- **Byron Merritt**[2] **(executive producer)**[2]\n",
      "- **Kim Herbert**[2] **(executive producer)**[2]\n",
      "- **Thomas Tull**[2] **(executive producer)**[2]\n",
      "- **John Harrison**[2] **(executive producer)**[2]\n",
      "- **Herbert W. Gain**[2] **(executive producer)**[2]\n",
      "- **Richard P. Rubinstein**[2] **(executive producer)**[2]\n",
      "- **Kevin J. Anderson**[2] **(creative consultant)**[2]\n",
      "\n",
      "[1] source: \"Dune: Part Two is a 2024 American epic science fiction film directed and produced by Denis Villeneuve, who co-wrote the screenplay with Jon Spaihts. The sequel to Dune (2021), it is the second of a two-part adaptation of the 1965 novel Dune by Frank Herbert. It follows Paul Atreides as he unites with the Fremen people of the desert planet Arrakis to wage war against House Harkonnen. Timothée Chalamet, Zendaya, Rebecca Ferguson, Josh Brolin, Dave Bautista, Stellan Skarsgård, Charlotte Rampling, and Javier\"\n",
      "[2] source: \"stunt coordinator. Dune: Part Two was produced by Villeneuve, Mary Parent, and Cale Boyter, with Tanya Lapointe, Brian Herbert, Byron Merritt, Kim Herbert, Thomas Tull, Jon Spaihts, Richard P. Rubinstein, John Harrison, and Herbert W. Gain serving as executive producers and Kevin J. Anderson as creative consultant. Legendary CEO Joshua Grode confirmed in April 2019 that they plan to make a sequel, adding that \"there's a logical place to stop the [first] movie before the book is over\".In December 2020,\"\n",
      "[3] source: \"series. Villeneuve ultimately secured a two-film deal with Warner Bros. Pictures, in the same style as the two-part adaption of Stephen King's It in 2017 and 2019. In January 2019, Joe Walker was confirmed to be serving as the film's editor. Other crew included Brad Riker as supervising art director, Patrice Vermette as production designer, Paul Lambert as visual effects supervisor, Gerd Nefzer as special effects supervisor, and Thomas Struthers as stunt coordinator. Dune: Part Two was produced by\"\n"
     ]
    }
   ],
   "source": [
    "def insert_citations_in_order(text, citations):\n",
    "    \"\"\"\n",
    "    A helper function to pretty print citations.\n",
    "    \"\"\"\n",
    "    offset = 0\n",
    "    document_id_to_number = {}\n",
    "    citation_number = 0\n",
    "    modified_citations = []\n",
    "\n",
    "    # Process citations, assigning numbers based on unique document_ids\n",
    "    for citation in citations:\n",
    "        citation_numbers = []\n",
    "        for document_id in sorted(citation.document_ids):\n",
    "            if document_id not in document_id_to_number:\n",
    "                citation_number += 1  # Increment for a new document_id\n",
    "                document_id_to_number[document_id] = citation_number\n",
    "            citation_numbers.append(document_id_to_number[document_id])\n",
    "\n",
    "        # Adjust start/end with offset\n",
    "        start, end = citation.start + offset, citation.end + offset\n",
    "        placeholder = ''.join([f'[{number}]' for number in citation_numbers])\n",
    "        # Bold the cited text and append the placeholder\n",
    "        modification = f'**{text[start:end]}**{placeholder}'\n",
    "        # Replace the cited text with its bolded version + placeholder\n",
    "        text = text[:start] + modification + text[end:]\n",
    "        # Update the offset for subsequent replacements\n",
    "        offset += len(modification) - (end - start)\n",
    "\n",
    "    # Prepare citations for listing at the bottom, ensuring unique document_ids are listed once\n",
    "    unique_citations = {number: doc_id for doc_id, number in document_id_to_number.items()}\n",
    "    citation_list = '\\n'.join([f'[{doc_id}] source: \"{documents[doc_id - 1][\"snippet\"]}\"' for doc_id, number in sorted(unique_citations.items(), key=lambda item: item[1])])\n",
    "    text_with_citations = f'{text}\\n\\n{citation_list}'\n",
    "\n",
    "    return text_with_citations\n",
    "\n",
    "\n",
    "print(insert_citations_in_order(response.text, response.citations))"
   ]
  },
  {
   "cell_type": "markdown",
   "id": "fafe9a37-3d8a-4f51-bdef-efc809dcaaa7",
   "metadata": {},
   "source": [
    "Reference: https://github.com/cohere-ai/notebooks/blob/main/notebooks/Vanilla_RAG.ipynb"
   ]
  },
  {
   "cell_type": "code",
   "execution_count": null,
   "id": "a82cf729-a09f-4e1f-8b32-faf21e320806",
   "metadata": {},
   "outputs": [],
   "source": []
  }
 ],
 "metadata": {
  "kernelspec": {
   "display_name": "llm_testing",
   "language": "python",
   "name": "llm_testing"
  },
  "language_info": {
   "codemirror_mode": {
    "name": "ipython",
    "version": 3
   },
   "file_extension": ".py",
   "mimetype": "text/x-python",
   "name": "python",
   "nbconvert_exporter": "python",
   "pygments_lexer": "ipython3",
   "version": "3.10.14"
  }
 },
 "nbformat": 4,
 "nbformat_minor": 5
}

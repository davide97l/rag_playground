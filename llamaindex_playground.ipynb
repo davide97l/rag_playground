{
 "cells": [
  {
   "cell_type": "markdown",
   "id": "573276e4-6c83-4a5e-a827-44223c1f19c2",
   "metadata": {},
   "source": [
    "# LLamaIndex playground\n",
    "\n",
    "This notebook can be used to test simple LLamaIndex features and components in order to get familiarity and understand how they work"
   ]
  },
  {
   "cell_type": "code",
   "execution_count": null,
   "id": "be0e8153-1910-46f3-abf0-71d43a083a87",
   "metadata": {},
   "outputs": [],
   "source": [
    "from llama_index.core import VectorStoreIndex, SimpleDirectoryReader\n",
    "from dotenv import load_dotenv\n",
    "load_dotenv()\n",
    "\n",
    "documents = SimpleDirectoryReader(\"documents\").load_data()\n",
    "index = VectorStoreIndex.from_documents(documents)"
   ]
  },
  {
   "cell_type": "code",
   "execution_count": 11,
   "id": "36e2e4ae-198c-4c10-8d46-2c51fa1de788",
   "metadata": {},
   "outputs": [
    {
     "name": "stdout",
     "output_type": "stream",
     "text": [
      "The documents are about utilizing the Unstructured API and Data Connectors for effortless document extraction and transformation of unstructured data. The guide covers the advantages of using the Unstructured API and Connector module, provides a step-by-step process using the S3 Connector as an example, and encourages participation in the Unstructured community.\n"
     ]
    }
   ],
   "source": [
    "query_engine = index.as_query_engine()\n",
    "response = query_engine.query(\"What are the documents about?\")\n",
    "print(response)"
   ]
  },
  {
   "cell_type": "code",
   "execution_count": 12,
   "id": "8a79b57d-c980-49e6-9b2e-a667ec02a6ca",
   "metadata": {},
   "outputs": [],
   "source": [
    "index.storage_context.persist()"
   ]
  },
  {
   "cell_type": "code",
   "execution_count": 14,
   "id": "d04cf1b2-6c5b-4f80-9fd9-b0176a75cf3f",
   "metadata": {},
   "outputs": [
    {
     "name": "stdout",
     "output_type": "stream",
     "text": [
      "The documents are about utilizing the Unstructured API and data connectors for effortless document extraction and transformation of structured data. The content covers the advantages of using the Unstructured API, provides a step-by-step guide on using it with the S3 Connector, and highlights the benefits of being part of the Unstructured community.\n"
     ]
    }
   ],
   "source": [
    "import os.path\n",
    "from llama_index.core import (\n",
    "    StorageContext,\n",
    "    load_index_from_storage,\n",
    ")\n",
    "\n",
    "# check if storage already exists\n",
    "PERSIST_DIR = \"./storage\"\n",
    "if os.path.exists(PERSIST_DIR):\n",
    "    # load the existing index\n",
    "    storage_context = StorageContext.from_defaults(persist_dir=PERSIST_DIR)\n",
    "    index = load_index_from_storage(storage_context)\n",
    "\n",
    "response = query_engine.query(\"What are the documents about?\")\n",
    "print(response)"
   ]
  },
  {
   "cell_type": "code",
   "execution_count": 15,
   "id": "cd96cc7a-cd2f-4859-a86a-20599e9190ee",
   "metadata": {},
   "outputs": [],
   "source": [
    "# Split text in chunks with custom chunk size\n",
    "from llama_index.core.node_parser import SentenceSplitter\n",
    "\n",
    "index = VectorStoreIndex.from_documents(\n",
    "    documents, transformations=[SentenceSplitter(chunk_size=512)]\n",
    ")"
   ]
  },
  {
   "cell_type": "code",
   "execution_count": null,
   "id": "e2b7403a-1116-495c-92f7-07327b73a196",
   "metadata": {},
   "outputs": [],
   "source": []
  }
 ],
 "metadata": {
  "kernelspec": {
   "display_name": "llm_testing",
   "language": "python",
   "name": "llm_testing"
  },
  "language_info": {
   "codemirror_mode": {
    "name": "ipython",
    "version": 3
   },
   "file_extension": ".py",
   "mimetype": "text/x-python",
   "name": "python",
   "nbconvert_exporter": "python",
   "pygments_lexer": "ipython3",
   "version": "3.10.14"
  }
 },
 "nbformat": 4,
 "nbformat_minor": 5
}
